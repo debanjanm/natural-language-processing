{
  "nbformat": 4,
  "nbformat_minor": 0,
  "metadata": {
    "colab": {
      "name": "flair.ipynb",
      "provenance": [],
      "authorship_tag": "ABX9TyNIfPDR4uS+i0X6a+NTz1yr",
      "include_colab_link": true
    },
    "kernelspec": {
      "name": "python3",
      "display_name": "Python 3"
    },
    "language_info": {
      "name": "python"
    }
  },
  "cells": [
    {
      "cell_type": "markdown",
      "metadata": {
        "id": "view-in-github",
        "colab_type": "text"
      },
      "source": [
        "<a href=\"https://colab.research.google.com/github/debanjanm/natural-language-processing/blob/main/02-named%20entity%20recognition/flair.ipynb\" target=\"_parent\"><img src=\"https://colab.research.google.com/assets/colab-badge.svg\" alt=\"Open In Colab\"/></a>"
      ]
    },
    {
      "cell_type": "markdown",
      "metadata": {
        "id": "9AXemVlTjpLQ"
      },
      "source": [
        "**FLAIR**"
      ]
    },
    {
      "cell_type": "code",
      "metadata": {
        "id": "4xCAQxPlYC66"
      },
      "source": [
        "!pip3 install flair"
      ],
      "execution_count": null,
      "outputs": []
    },
    {
      "cell_type": "code",
      "metadata": {
        "id": "btucC1ulaTOS"
      },
      "source": [
        "example_document = '''Baidu's Apollo Project is one of the world's leading autonomous driving and AI programs, with one of the largest partner ecosystems and over 100 global partners as of 2018, including BYD, Dongfeng, Microsoft, Intel, Nvidia, Daimler AG, ZTE, Grab, Ford, Hyundai and Honda.'''"
      ],
      "execution_count": null,
      "outputs": []
    },
    {
      "cell_type": "code",
      "metadata": {
        "id": "jL6RGDHgYIeA"
      },
      "source": [
        "from flair.models import SequenceTagger\n",
        "flair_12class = SequenceTagger.load('ner-ontonotes-fast')\n",
        "flair_4class = SequenceTagger.load('ner')"
      ],
      "execution_count": null,
      "outputs": []
    },
    {
      "cell_type": "code",
      "metadata": {
        "id": "RkIT6_7_YJ8d"
      },
      "source": [
        "def flair_ner(document, model):\n",
        "  from flair.data import Sentence\n",
        "  s = Sentence(document)\n",
        "  model.predict(s)\n",
        "  entities = s.to_dict(tag_type='ner')\n",
        "  return [(entity[\"text\"], entity[\"labels\"]) for entity in entities[\"entities\"]]"
      ],
      "execution_count": null,
      "outputs": []
    },
    {
      "cell_type": "code",
      "metadata": {
        "id": "sPIvn7mSYKWE"
      },
      "source": [
        "  from flair.data import Sentence\n",
        "  s = Sentence(example_document)\n",
        "  flair_4class.predict(s)\n",
        "  entities = s.to_dict(tag_type='ner')"
      ],
      "execution_count": null,
      "outputs": []
    },
    {
      "cell_type": "code",
      "metadata": {
        "id": "hG2rcTROYLtQ"
      },
      "source": [
        "flair_ner(example_document, flair_4class)"
      ],
      "execution_count": null,
      "outputs": []
    },
    {
      "cell_type": "code",
      "metadata": {
        "id": "Im0yj4cKYNcV"
      },
      "source": [
        "flair_ner(example_document, flair_12class)"
      ],
      "execution_count": null,
      "outputs": []
    }
  ]
}